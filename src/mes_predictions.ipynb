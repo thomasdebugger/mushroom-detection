{
 "cells": [
  {
   "cell_type": "code",
   "execution_count": 132,
   "metadata": {},
   "outputs": [],
   "source": [
    "import numpy as np\n",
    "import pandas as pd\n",
    "from sklearn import preprocessing\n",
    "import seaborn as sns\n",
    "import matplotlib.pyplot as plt\n",
    "from sklearn.metrics import confusion_matrix\n"
   ]
  },
  {
   "cell_type": "code",
   "execution_count": 119,
   "metadata": {},
   "outputs": [],
   "source": [
    "#import des données\n",
    "data_dir = '../data/mushrooms.csv'\n",
    "mushrooms_df = pd.read_csv(data_dir, delimiter=',', encoding='UTF-8')\n"
   ]
  },
  {
   "cell_type": "code",
   "execution_count": 120,
   "metadata": {},
   "outputs": [],
   "source": [
    "def pred_gill_size(data):\n",
    "    retour = ''\n",
    "    if data['gill-size']=='b':\n",
    "        retour = 'e'\n",
    "    else:\n",
    "        retour = 'p'\n",
    "    return retour\n",
    "\n",
    "mushrooms_df['pred_gill_size'] = mushrooms_df.apply(pred_gill_size,axis=1)"
   ]
  },
  {
   "cell_type": "code",
   "execution_count": 121,
   "metadata": {},
   "outputs": [
    {
     "data": {
      "text/plain": [
       "array(['e', 'p'], dtype=object)"
      ]
     },
     "execution_count": 121,
     "metadata": {},
     "output_type": "execute_result"
    }
   ],
   "source": [
    "#données de sorties\n",
    "np.unique(mushrooms_df['pred_gill_size'])"
   ]
  },
  {
   "cell_type": "code",
   "execution_count": 122,
   "metadata": {},
   "outputs": [
    {
     "name": "stdout",
     "output_type": "stream",
     "text": [
      "Taux de réussite :  75.62776957163959\n"
     ]
    }
   ],
   "source": [
    "#évaluation des des résultats\n",
    "pred_gill_size=((mushrooms_df['pred_gill_size'] == mushrooms_df['class']).sum() / mushrooms_df.shape[0])*100\n",
    "\n",
    "print('Taux de réussite : ',pred_gill_size)"
   ]
  },
  {
   "cell_type": "code",
   "execution_count": 123,
   "metadata": {},
   "outputs": [],
   "source": [
    "def pred_gill_color(data):\n",
    "    retour = ''\n",
    "    if data['gill-color']=='b':\n",
    "        retour = 'p'\n",
    "    else:\n",
    "        retour = 'e'\n",
    "    return retour\n",
    "\n",
    "mushrooms_df['pred_gill_color'] = mushrooms_df.apply(pred_gill_color,axis=1)"
   ]
  },
  {
   "cell_type": "code",
   "execution_count": 124,
   "metadata": {},
   "outputs": [
    {
     "name": "stdout",
     "output_type": "stream",
     "text": [
      "Taux de réussite :  73.06745445593303\n"
     ]
    }
   ],
   "source": [
    "pred_gill_color=((mushrooms_df['pred_gill_color'] == mushrooms_df['class']).sum() / mushrooms_df.shape[0])*100\n",
    "\n",
    "print('Taux de réussite : ',pred_gill_color)"
   ]
  },
  {
   "cell_type": "code",
   "execution_count": 125,
   "metadata": {},
   "outputs": [],
   "source": [
    "def pred_combinated(data):\n",
    "    retour = ''\n",
    "    if data['gill-size']=='b' and not(data['gill-color']=='b') :\n",
    "        retour = 'e'\n",
    "    else:\n",
    "        retour = 'p'\n",
    "    return retour\n",
    "\n",
    "mushrooms_df['pred_gill_combinated'] = mushrooms_df.apply(pred_combinated,axis=1)"
   ]
  },
  {
   "cell_type": "code",
   "execution_count": 126,
   "metadata": {},
   "outputs": [
    {
     "name": "stdout",
     "output_type": "stream",
     "text": [
      "Taux de réussite :  75.62776957163959\n"
     ]
    }
   ],
   "source": [
    "pred_gill_combinated=((mushrooms_df['pred_gill_combinated'] == mushrooms_df['class']).sum() / mushrooms_df.shape[0])*100\n",
    "\n",
    "print('Taux de réussite : ',pred_gill_combinated)"
   ]
  },
  {
   "cell_type": "code",
   "execution_count": 127,
   "metadata": {},
   "outputs": [
    {
     "data": {
      "image/png": "[encoded data removed]",
      "text/plain": [
       "<Figure size 432x288 with 1 Axes>"
      ]
     },
     "metadata": {
      "needs_background": "light"
     },
     "output_type": "display_data"
    }
   ],
   "source": [
    "#graphique des résulatats réels vs ce que l'on a prédit\n",
    "import matplotlib.pyplot as plt\n",
    "x=mushrooms_df.loc[:,'gill-size']\n",
    "y=mushrooms_df.loc[:,'gill-color']\n",
    "lab=mushrooms_df.loc[:,'class']\n",
    "plt.scatter(x[lab == 'e'], y[lab == 'e'], color='g', label='e')\n",
    "plt.scatter(x[lab == 'p'], y[lab == 'p'], color='b', label='p')\n",
    "plt.legend()\n",
    "plt.show()"
   ]
  },
  {
   "cell_type": "code",
   "execution_count": 128,
   "metadata": {},
   "outputs": [
    {
     "data": {
      "image/png": "[encoded data removed]",
      "text/plain": [
       "<Figure size 432x288 with 1 Axes>"
      ]
     },
     "metadata": {
      "needs_background": "light"
     },
     "output_type": "display_data"
    }
   ],
   "source": [
    "import matplotlib.pyplot as plt\n",
    "x=mushrooms_df.loc[:,'gill-size']\n",
    "y=mushrooms_df.loc[:,'gill-color']\n",
    "lab=mushrooms_df.loc[:,'pred_gill_combinated']\n",
    "plt.scatter(x[lab == 'e'], y[lab == 'e'], color='g', label='e')\n",
    "plt.scatter(x[lab == 'p'], y[lab == 'p'], color='b', label='p')\n",
    "plt.legend()\n",
    "plt.show()"
   ]
  },
  {
   "cell_type": "code",
   "execution_count": 129,
   "metadata": {},
   "outputs": [
    {
     "data": {
      "image/png": "[encoded data removed]",
      "text/plain": [
       "<Figure size 432x288 with 2 Axes>"
      ]
     },
     "metadata": {
      "needs_background": "light"
     },
     "output_type": "display_data"
    }
   ],
   "source": [
    "cm = confusion_matrix(mushrooms_df['class'], mushrooms_df['pred_gill_combinated'])\n",
    "cm_df = pd.DataFrame(cm,\n",
    "                     index = ['e','p'], \n",
    "                     columns = ['e','p'])\n",
    "\n",
    "sns.heatmap(cm_df, annot=True)\n",
    "plt.ylabel('prédit')\n",
    "plt.xlabel('reelle')\n",
    "plt.show()"
   ]
  }
 ],
 "metadata": {
  "kernelspec": {
   "display_name": "Python 3",
   "language": "python",
   "name": "python3"
  },
  "language_info": {
   "codemirror_mode": {
    "name": "ipython",
    "version": 3
   },
   "file_extension": ".py",
   "mimetype": "text/x-python",
   "name": "python",
   "nbconvert_exporter": "python",
   "pygments_lexer": "ipython3",
   "version": "3.7.7"
  }
 },
 "nbformat": 4,
 "nbformat_minor": 4
}
